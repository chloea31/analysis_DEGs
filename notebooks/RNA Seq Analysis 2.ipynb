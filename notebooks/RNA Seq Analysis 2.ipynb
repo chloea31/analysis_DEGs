{
 "cells": [
  {
   "cell_type": "code",
   "execution_count": null,
   "id": "8a05db93-30f2-4d07-b72b-1f84a8d0efbb",
   "metadata": {},
   "outputs": [],
   "source": [
    "import numpy as np\n",
    "import pandas as pd\n",
    "import plotly.express as px\n",
    "import plotly.graph_objects as go\n",
    "from plotly.subplots import make_subplots\n",
    "from scipy.stats import fisher_exact"
   ]
  },
  {
   "cell_type": "code",
   "execution_count": null,
   "id": "569815cb-5abb-4ed3-9aaa-f42bf4526195",
   "metadata": {},
   "outputs": [],
   "source": [
    "data = pd.read_csv(\"expression_counts.txt\", sep = \" \")\n",
    "data.info()\n",
    "data.head()"
   ]
  },
  {
   "cell_type": "code",
   "execution_count": null,
   "id": "6911a04b-0dfa-4fea-bb0d-de34ea1303c3",
   "metadata": {},
   "outputs": [],
   "source": [
    "data_T = data.T\n",
    "data_T.info()\n",
    "data_T.head()"
   ]
  },
  {
   "cell_type": "code",
   "execution_count": null,
   "id": "002c3251-a455-495e-977c-32941e8a34f0",
   "metadata": {},
   "outputs": [],
   "source": [
    "data_T = data_T[[\"control_1\", \"control_2\", \"control_3\", \"disease_1\", \"disease_2\", \"disease_3\"]]\n",
    "data_T.info()\n",
    "data_T.head()"
   ]
  },
  {
   "cell_type": "code",
   "execution_count": null,
   "id": "e0f799a6-cca8-47e4-9953-c7563ccf4d1d",
   "metadata": {},
   "outputs": [],
   "source": [
    "rlog_df = pd.read_csv('rlog.norm.counts.tsv', sep=' ')\n",
    "rlog_df.info()\n",
    "rlog_df.head()"
   ]
  },
  {
   "cell_type": "code",
   "execution_count": null,
   "id": "a9a2dd93-4f1c-4534-bb8d-8b199ece4121",
   "metadata": {},
   "outputs": [],
   "source": [
    "up_df = pd.read_csv('up_regulated.txt', sep=' ')\n",
    "up_df.info()\n",
    "display(up_df.head())\n",
    "\n",
    "down_df = pd.read_csv('down_regulated.txt', sep=' ')\n",
    "down_df.info()\n",
    "display(down_df.head())"
   ]
  },
  {
   "cell_type": "code",
   "execution_count": null,
   "id": "06ce7859-4869-4b3b-9c51-5eb181170b8d",
   "metadata": {},
   "outputs": [],
   "source": [
    "total = len(up_df) + len(down_df)\n",
    "\n",
    "fig = make_subplots(rows=1, cols=2, shared_yaxes=True, subplot_titles=['UP Regulated', 'DOWN Regulated'],\n",
    "                    horizontal_spacing = 0.01, column_widths=[len(up_df) / total, len(down_df) / total])\n",
    "\n",
    "rlog_df_t = rlog_df.T\n",
    "\n",
    "fig.add_trace(go.Heatmap(x=up_df.index, y=rlog_df_t.index, z=rlog_df_t[up_df.index], coloraxis = \"coloraxis\"), row=1, col=1)\n",
    "fig.add_trace(go.Heatmap(x=down_df.index, y=rlog_df_t.index, z=rlog_df_t[down_df.index], coloraxis = \"coloraxis\"), row=1, col=2)\n",
    "fig.show()"
   ]
  },
  {
   "cell_type": "code",
   "execution_count": null,
   "id": "2140c68b-afca-437a-9daa-b9381fe62545",
   "metadata": {},
   "outputs": [],
   "source": [
    "# HeatMap\n",
    "def df_to_plotly(df):\n",
    "    return {\"z\":df.values.tolist(),\n",
    "           \"x\": df.columns.tolist(),\n",
    "           \"y\": df.index.tolist(),\n",
    "           \"text\": df.values.tolist()}"
   ]
  },
  {
   "cell_type": "code",
   "execution_count": null,
   "id": "31e90b7f-286a-4d59-8b47-b51f2555f442",
   "metadata": {},
   "outputs": [],
   "source": [
    "cosmic_df = pd.read_csv(\"Census_allFri Oct 13 22_55_01 2023.csv\")\n",
    "cosmic_df.info()\n",
    "cosmic_df.head()"
   ]
  },
  {
   "cell_type": "code",
   "execution_count": null,
   "id": "34104042-50f8-4ec1-9271-e3ae9aaa1266",
   "metadata": {},
   "outputs": [],
   "source": [
    "import math\n",
    "\n",
    "math.log2(601.666/6381)"
   ]
  },
  {
   "cell_type": "code",
   "execution_count": null,
   "id": "e7af210c-8ab8-4b3b-a2a4-04ed000e6411",
   "metadata": {},
   "outputs": [],
   "source": [
    "cosmic_df_need = cosmic_df[[\"Gene Symbol\", \n",
    "                            \"Role in Cancer\"]]\n",
    "cosmic_df_need.info()\n",
    "cosmic_df_need.head()"
   ]
  },
  {
   "cell_type": "code",
   "execution_count": null,
   "id": "2cd604c0-3868-445f-aa88-6033f86618f9",
   "metadata": {},
   "outputs": [],
   "source": [
    "up_df = pd.read_csv('up_regulated.txt', sep=' ').reset_index().rename(columns = {\"index\":\"Gene Symbol\"})\n",
    "up_df.info()\n",
    "display(up_df.head())"
   ]
  },
  {
   "cell_type": "code",
   "execution_count": null,
   "id": "c46b8065-e38a-4d87-aba4-38bb7c915368",
   "metadata": {},
   "outputs": [],
   "source": [
    "df_merge = up_df.merge(cosmic_df_need, how = \"left\", on = \"Gene Symbol\")\n",
    "df_merge.info()\n",
    "df_merge.head()"
   ]
  },
  {
   "cell_type": "code",
   "execution_count": null,
   "id": "268c990e-3bae-4e04-ad3c-102f8fcd4437",
   "metadata": {},
   "outputs": [],
   "source": [
    "down_df = pd.read_csv('down_regulated.txt', sep=' ').reset_index().rename(columns = {\"index\":\"Gene Symbol\"})\n",
    "down_df.info()\n",
    "display(down_df.head())"
   ]
  },
  {
   "cell_type": "code",
   "execution_count": null,
   "id": "a899674d-105d-42b1-864a-e392e91c968a",
   "metadata": {},
   "outputs": [],
   "source": [
    "df_merge_down = down_df.merge(cosmic_df_need, how = \"left\", on = \"Gene Symbol\")\n",
    "df_merge_down.info()\n",
    "df_merge_down.head()"
   ]
  },
  {
   "cell_type": "code",
   "execution_count": null,
   "id": "ee12010b-1d66-4cf5-b902-dd864976d49a",
   "metadata": {},
   "outputs": [],
   "source": [
    "df_merge_down[df_merge_down[\"Role in Cancer\"].notna()]"
   ]
  },
  {
   "cell_type": "code",
   "execution_count": null,
   "id": "8620c670-640d-458e-b3fe-f1a4705c02c2",
   "metadata": {},
   "outputs": [],
   "source": [
    "df_merge[\"Role in Cancer\"].unique()"
   ]
  },
  {
   "cell_type": "code",
   "execution_count": null,
   "id": "2d5f7d45-58b0-412c-86a1-8ca81bb1d2a9",
   "metadata": {},
   "outputs": [],
   "source": [
    "df_merge[\"Role in Cancer\"].value_counts()"
   ]
  },
  {
   "cell_type": "code",
   "execution_count": null,
   "id": "d71dc9a6-df30-4c55-a9f3-ab8d26cd55ff",
   "metadata": {},
   "outputs": [],
   "source": [
    "# Histogram\n",
    "fig = px.histogram(df_merge, x = \"Role in Cancer\",\n",
    "                  title = \"Representation of the repartition of TSGs and oncogenes for up-regulated genes\")\n",
    "fig.show()"
   ]
  },
  {
   "cell_type": "code",
   "execution_count": null,
   "id": "5ff24dcb-1771-4a0b-a806-1258a65f63e0",
   "metadata": {},
   "outputs": [],
   "source": [
    "# concatenate the 2 dataframes\n",
    "reg = \"UP\"\n",
    "df_merge[\"regulation\"] = reg\n",
    "df_merge.info()\n",
    "df_merge.head()"
   ]
  },
  {
   "cell_type": "code",
   "execution_count": null,
   "id": "4486b577-425e-4c25-8961-1e522de26bd6",
   "metadata": {},
   "outputs": [],
   "source": [
    "df_merge_down[\"regulation\"] = \"DOWN\"\n",
    "df_merge_down.info()\n",
    "df_merge_down.head()"
   ]
  },
  {
   "cell_type": "code",
   "execution_count": null,
   "id": "db02bff7-11f6-412a-806d-ee24ee772bdf",
   "metadata": {},
   "outputs": [],
   "source": [
    "frames = [df_merge, df_merge_down]\n",
    "result = pd.concat(frames)\n",
    "result.info()\n",
    "result.head()"
   ]
  },
  {
   "cell_type": "code",
   "execution_count": null,
   "id": "71a714e2-09b7-433e-afbc-3780f1ef45d2",
   "metadata": {},
   "outputs": [],
   "source": [
    "result[\"Role in Cancer\"].unique()"
   ]
  },
  {
   "cell_type": "code",
   "execution_count": null,
   "id": "204538ba-b3e4-4cc8-8a92-6a349e562dff",
   "metadata": {},
   "outputs": [],
   "source": [
    "result[\"Role in Cancer\"].value_counts()"
   ]
  },
  {
   "cell_type": "code",
   "execution_count": null,
   "id": "a1443146-8955-41f9-b21c-7f7686a8e3c8",
   "metadata": {},
   "outputs": [],
   "source": [
    "# Histogram\n",
    "fig = px.histogram(result, x = \"Role in Cancer\", color = \"regulation\",\n",
    "                  title = \"Representation of the repartition of TSGs and oncogenes for up- and down- regulated genes\")\n",
    "fig.show()"
   ]
  },
  {
   "cell_type": "code",
   "execution_count": null,
   "id": "f8502f34-7626-4ba8-964e-160d50510d47",
   "metadata": {},
   "outputs": [],
   "source": [
    "# designing the df to perform the Fisher test -> contingency table 2X2 -> TSG/oncogene as rows, UP/DOWN as columns\n",
    "# if 1 gene both TSG and oncogene, count 1 for TSG and 1 oncogene (UP)\n",
    "# UP: 5 TSGs / 1 oncogene\n",
    "# DOWN: 3 oncogene / 1 TSG\n",
    "contingency_table = pd.DataFrame([[5, 1], [1, 3]], columns = [\"UP\", \"DOWN\"], index = [\"TSGs\", \"oncogenes\"])\n",
    "contingency_table"
   ]
  },
  {
   "cell_type": "code",
   "execution_count": null,
   "id": "271abebd-96ba-4a0c-89da-594bc074ac5f",
   "metadata": {},
   "outputs": [],
   "source": [
    "# statistical analysis\n",
    "odds_ratio, p_value = fisher_exact(contingency_table)\n",
    "print(odds_ratio, p_value)"
   ]
  },
  {
   "cell_type": "code",
   "execution_count": null,
   "id": "e6d266ef-4562-4b71-b2e9-817b2f921c74",
   "metadata": {},
   "outputs": [],
   "source": []
  }
 ],
 "metadata": {
  "kernelspec": {
   "display_name": "Python 3 (ipykernel)",
   "language": "python",
   "name": "python3"
  },
  "language_info": {
   "codemirror_mode": {
    "name": "ipython",
    "version": 3
   },
   "file_extension": ".py",
   "mimetype": "text/x-python",
   "name": "python",
   "nbconvert_exporter": "python",
   "pygments_lexer": "ipython3",
   "version": "3.12.1"
  }
 },
 "nbformat": 4,
 "nbformat_minor": 5
}
